{
 "cells": [
  {
   "metadata": {
    "ExecuteTime": {
     "end_time": "2025-06-03T06:48:49.348249Z",
     "start_time": "2025-06-03T06:48:49.344939Z"
    }
   },
   "cell_type": "code",
   "source": [
    "import pandas as pd\n",
    "import numpy as np\n",
    "from sklearn.model_selection import train_test_split, cross_val_score, GridSearchCV, StratifiedKFold\n",
    "from sklearn.pipeline import Pipeline\n",
    "from sklearn.preprocessing import StandardScaler, LabelEncoder\n",
    "from sklearn.metrics import f1_score, classification_report, confusion_matrix, roc_auc_score\n",
    "from sklearn.linear_model import LogisticRegression\n",
    "from sklearn.ensemble import RandomForestClassifier, GradientBoostingClassifier, VotingClassifier\n",
    "from sklearn.svm import SVC\n",
    "from sklearn.neighbors import KNeighborsClassifier\n",
    "from sklearn.tree import DecisionTreeClassifier\n",
    "import xgboost as xgb\n",
    "import matplotlib.pyplot as plt\n",
    "import seaborn as sns\n",
    "import warnings\n",
    "warnings.filterwarnings('ignore')"
   ],
   "id": "3bd8a39b8e94ce2d",
   "outputs": [],
   "execution_count": 23
  },
  {
   "metadata": {
    "ExecuteTime": {
     "end_time": "2025-06-03T06:48:50.398284Z",
     "start_time": "2025-06-03T06:48:50.395859Z"
    }
   },
   "cell_type": "code",
   "source": [
    "# 한글 폰트 설정 (Windows 환경)\n",
    "plt.rcParams['font.family'] = 'Malgun Gothic'\n",
    "plt.rcParams['axes.unicode_minus'] = False\n",
    "\n",
    "print(\"🚀 학생 중도이탈율 예측 모델 구축을 시작합니다!\")\n",
    "print(\"=\" * 60)"
   ],
   "id": "fd9e2c1dfff05d4f",
   "outputs": [
    {
     "name": "stdout",
     "output_type": "stream",
     "text": [
      "🚀 학생 중도이탈율 예측 모델 구축을 시작합니다!\n",
      "============================================================\n"
     ]
    }
   ],
   "execution_count": 24
  },
  {
   "metadata": {
    "ExecuteTime": {
     "end_time": "2025-06-03T06:48:51.349501Z",
     "start_time": "2025-06-03T06:48:51.332329Z"
    }
   },
   "cell_type": "code",
   "source": [
    "# 1. 데이터 로드 (Google Colab 코드 제거)\n",
    "try:\n",
    "    data = pd.read_csv('data/processed_student_data.csv')  # 실제 파일명으로 변경\n",
    "    print(f\"✅ 데이터 로드 완료: {data.shape}\")\n",
    "except FileNotFoundError:\n",
    "    print(\"❌ CSV 파일을 찾을 수 없습니다. 파일 경로를 확인해주세요.\")\n",
    "    exit()"
   ],
   "id": "c6916d348e71f9df",
   "outputs": [
    {
     "name": "stdout",
     "output_type": "stream",
     "text": [
      "✅ 데이터 로드 완료: (4424, 35)\n"
     ]
    }
   ],
   "execution_count": 25
  },
  {
   "metadata": {
    "ExecuteTime": {
     "end_time": "2025-06-03T06:48:52.210118Z",
     "start_time": "2025-06-03T06:48:52.206869Z"
    }
   },
   "cell_type": "code",
   "source": "print(data.columns)\n",
   "id": "c8bee136337fef2b",
   "outputs": [
    {
     "name": "stdout",
     "output_type": "stream",
     "text": [
      "Index(['결혼 상태', '지원 방법', '지원 순서', '수강 과정', '주/야간 수업', '이전 학력', '국적', '어머니 학력',\n",
      "       '아버지 학력', '어머니 직업', '아버지 직업', '이재민 여부', '특수 교육 필요 여부', '연체 여부',\n",
      "       '등록금 납부 여부', '성별', '장학금 수혜 여부', '입학 나이', '국제 학생 여부', '1학기 학점 인정 과목 수',\n",
      "       '1학기 수강 과목 수', '1학기 평가된 과목 수', '1학기 합격 과목 수', '1학기 성적 평균',\n",
      "       '1학기 평가 미진행 과목 수', '2학기 학점 인정 과목 수', '2학기 수강 과목 수', '2학기 평가된 과목 수',\n",
      "       '2학기 합격 과목 수', '2학기 성적 평균', '2학기 평가 미진행 과목 수', '실업률', '인플레이션율', 'GDP',\n",
      "       '학업 성취도 (타겟)'],\n",
      "      dtype='object')\n"
     ]
    }
   ],
   "execution_count": 26
  },
  {
   "metadata": {
    "ExecuteTime": {
     "end_time": "2025-06-03T06:51:53.029073Z",
     "start_time": "2025-06-03T06:51:53.023424Z"
    }
   },
   "cell_type": "code",
   "source": [
    "# 타겟 컬럼 확인\n",
    "target_col = '학업 성취도 (타겟)'\n",
    "print(\"원본 타겟 변수 분포:\")\n",
    "print(data[target_col].value_counts())\n",
    "\n",
    "# 타겟 이진화 - 실제 값에 맞게 수정\n",
    "unique_values = data[target_col].unique()\n",
    "print(f\"고유값: {unique_values}\")\n",
    "\n",
    "# 실제 값에 따라 수정 (예시)\n",
    "if 'Dropout' in unique_values:\n",
    "    data['Target_Binary'] = (data[target_col] == 'Dropout').astype(int)\n",
    "elif '중도이탈' in unique_values:\n",
    "    data['Target_Binary'] = (data[target_col] == '중도이탈').astype(int)\n",
    "else:\n",
    "    # 다른 값이 있을 경우 첫 번째 값을 1로 설정\n",
    "    data['Target_Binary'] = (data[target_col] == unique_values[0]).astype(int)\n",
    "\n",
    "print(\"이진화된 타겟 변수 분포:\")\n",
    "print(data['Target_Binary'].value_counts())\n",
    "print(f\"클래스 비율: {data['Target_Binary'].mean():.3f}\")"
   ],
   "id": "1db4cf6c1d65ec1",
   "outputs": [
    {
     "name": "stdout",
     "output_type": "stream",
     "text": [
      "원본 타겟 변수 분포:\n",
      "학업 성취도 (타겟)\n",
      "졸업      2209\n",
      "자퇴      1421\n",
      "재학 중     794\n",
      "Name: count, dtype: int64\n",
      "고유값: ['자퇴' '졸업' '재학 중']\n",
      "이진화된 타겟 변수 분포:\n",
      "Target_Binary\n",
      "0    3003\n",
      "1    1421\n",
      "Name: count, dtype: int64\n",
      "클래스 비율: 0.321\n"
     ]
    }
   ],
   "execution_count": 32
  },
  {
   "metadata": {
    "ExecuteTime": {
     "end_time": "2025-06-03T06:52:33.573765Z",
     "start_time": "2025-06-03T06:52:33.569725Z"
    }
   },
   "cell_type": "code",
   "source": [
    "# 특성과 타겟 분리\n",
    "X = data.drop(columns=[target_col, 'Target_Binary'])\n",
    "y = data['Target_Binary']\n",
    "\n",
    "# 클래스 분포 확인\n",
    "if len(np.unique(y)) < 2:\n",
    "    print(\"❌ 오류: 타겟 변수에 클래스가 1개만 있습니다!\")\n",
    "    print(\"타겟 이진화 로직을 다시 확인해주세요.\")\n",
    "    exit()\n",
    "print(f\"✅ 총 {len(np.unique(y))}개 클래스 확인됨\")"
   ],
   "id": "b28315b225477074",
   "outputs": [
    {
     "name": "stdout",
     "output_type": "stream",
     "text": [
      "✅ 총 2개 클래스 확인됨\n"
     ]
    }
   ],
   "execution_count": 39
  },
  {
   "metadata": {
    "ExecuteTime": {
     "end_time": "2025-06-03T06:52:55.615623Z",
     "start_time": "2025-06-03T06:52:55.609746Z"
    }
   },
   "cell_type": "code",
   "source": [
    "# 범주형 변수 인코딩\n",
    "for col in X.select_dtypes(include='object').columns:\n",
    "    le = LabelEncoder()\n",
    "    X[col] = le.fit_transform(X[col].astype(str))\n",
    "\n",
    "# 안전한 데이터 분할 (더 큰 테스트 사이즈 사용)\n",
    "X_train, X_test, y_train, y_test = train_test_split(\n",
    "    X, y, test_size=0.3, stratify=y, random_state=42, shuffle=True\n",
    ")"
   ],
   "id": "2add8fe5be6f19fe",
   "outputs": [],
   "execution_count": 41
  },
  {
   "metadata": {
    "ExecuteTime": {
     "end_time": "2025-06-03T06:57:59.219938Z",
     "start_time": "2025-06-03T06:57:59.216817Z"
    }
   },
   "cell_type": "code",
   "source": [
    "# 학습 데이터의 클래스 분포 확인\n",
    "print(\"학습 데이터 클래스 분포:\")\n",
    "print(y_train.value_counts())\n",
    "\n",
    "if len(np.unique(y_train)) < 2:\n",
    "    print(\"❌ 학습 데이터에 클래스가 1개만 있습니다!\")\n",
    "    print(\"데이터셋 크기를 늘리거나 test_size를 조정해주세요.\")\n",
    "    exit()\n",
    "\n",
    "# 안전한 교차 검증 설정\n",
    "cv = StratifiedKFold(n_splits=3, shuffle=True, random_state=42)  # n_splits 줄임"
   ],
   "id": "d58d86c6056e4f47",
   "outputs": [
    {
     "name": "stdout",
     "output_type": "stream",
     "text": [
      "학습 데이터 클래스 분포:\n",
      "Target_Binary\n",
      "0    2102\n",
      "1     994\n",
      "Name: count, dtype: int64\n"
     ]
    }
   ],
   "execution_count": 46
  },
  {
   "metadata": {
    "ExecuteTime": {
     "end_time": "2025-06-03T06:59:04.342066Z",
     "start_time": "2025-06-03T06:58:55.488834Z"
    }
   },
   "cell_type": "code",
   "source": [
    "# 클래스 가중치를 고려한 모델 정의\n",
    "models = {\n",
    "    'LogisticRegression': (\n",
    "        LogisticRegression(max_iter=1000, class_weight='balanced'),\n",
    "        {'C':[0.1,1,10]}\n",
    "    ),\n",
    "    'RandomForest': (\n",
    "        RandomForestClassifier(class_weight='balanced'),\n",
    "        {'n_estimators':[50,100],'max_depth':[10,20]}\n",
    "    ),\n",
    "    'GradientBoosting': (\n",
    "        GradientBoostingClassifier(),\n",
    "        {'n_estimators':[50,100],'learning_rate':[0.05,0.1]}\n",
    "    ),\n",
    "    'XGBoost': (\n",
    "        xgb.XGBClassifier(eval_metric='logloss'),\n",
    "        {'n_estimators':[50,100],'learning_rate':[0.05,0.1]}\n",
    "    ),\n",
    "    'SVC': (\n",
    "        SVC(probability=True, class_weight='balanced'),\n",
    "        {'C':[0.1,1,10],'kernel':['rbf']}\n",
    "    )\n",
    "}\n",
    "\n",
    "results = {}\n",
    "best_score = 0\n",
    "best_model = None\n",
    "\n",
    "print(\"\\n🔍 모델 학습 시작...\")\n",
    "\n",
    "for name, (model, params) in models.items():\n",
    "    try:\n",
    "        print(f\"\\n🎯 {name} 학습 중...\")\n",
    "\n",
    "        # 파이프라인 구성\n",
    "        pipe = Pipeline([\n",
    "            ('scaler', StandardScaler()),\n",
    "            ('model', model)\n",
    "        ])\n",
    "\n",
    "        # 그리드 서치\n",
    "        grid = GridSearchCV(\n",
    "            pipe,\n",
    "            {'model__'+k:v for k,v in params.items()},\n",
    "            cv=cv,\n",
    "            scoring='f1',\n",
    "            n_jobs=1,  # 병렬 처리 비활성화로 안정성 향상\n",
    "            error_score='raise'\n",
    "        )\n",
    "\n",
    "        grid.fit(X_train, y_train)\n",
    "\n",
    "        # 예측 및 평가\n",
    "        y_pred = grid.predict(X_test)\n",
    "        y_pred_proba = grid.predict_proba(X_test)[:, 1]\n",
    "\n",
    "        f1 = f1_score(y_test, y_pred)\n",
    "        try:\n",
    "            auc = roc_auc_score(y_test, y_pred_proba)\n",
    "        except:\n",
    "            auc = 0.0\n",
    "\n",
    "        results[name] = {\n",
    "            'f1': f1,\n",
    "            'auc': auc,\n",
    "            'best_params': grid.best_params_\n",
    "        }\n",
    "\n",
    "        print(f\"  ✅ F1-Score: {f1:.4f}\")\n",
    "        print(f\"  ✅ AUC-Score: {auc:.4f}\")\n",
    "\n",
    "        if f1 > best_score:\n",
    "            best_score = f1\n",
    "            best_model = grid.best_estimator_\n",
    "\n",
    "    except Exception as e:\n",
    "        print(f\"  ❌ {name} 실패: {str(e)}\")\n",
    "        continue\n"
   ],
   "id": "118400b1742cf72e",
   "outputs": [
    {
     "name": "stdout",
     "output_type": "stream",
     "text": [
      "\n",
      "🔍 모델 학습 시작...\n",
      "\n",
      "🎯 LogisticRegression 학습 중...\n",
      "  ✅ F1-Score: 0.8127\n",
      "  ✅ AUC-Score: 0.9304\n",
      "\n",
      "🎯 RandomForest 학습 중...\n",
      "  ✅ F1-Score: 0.8000\n",
      "  ✅ AUC-Score: 0.9260\n",
      "\n",
      "🎯 GradientBoosting 학습 중...\n",
      "  ✅ F1-Score: 0.7880\n",
      "  ✅ AUC-Score: 0.9323\n",
      "\n",
      "🎯 XGBoost 학습 중...\n",
      "  ✅ F1-Score: 0.7899\n",
      "  ✅ AUC-Score: 0.9300\n",
      "\n",
      "🎯 SVC 학습 중...\n",
      "  ✅ F1-Score: 0.7962\n",
      "  ✅ AUC-Score: 0.9233\n"
     ]
    }
   ],
   "execution_count": 47
  },
  {
   "metadata": {
    "ExecuteTime": {
     "end_time": "2025-06-03T06:59:38.771978Z",
     "start_time": "2025-06-03T06:59:38.764743Z"
    }
   },
   "cell_type": "code",
   "source": [
    "# 결과 출력\n",
    "if results:\n",
    "    print(f\"\\n🏆 최고 성능 모델 F1-Score: {best_score:.4f}\")\n",
    "    print(\"\\n📊 전체 결과:\")\n",
    "    for name, result in results.items():\n",
    "        print(f\"  {name}: F1={result['f1']:.4f}, AUC={result['auc']:.4f}\")\n",
    "\n",
    "    # 최고 모델로 상세 평가\n",
    "    if best_model is not None:\n",
    "        y_pred_final = best_model.predict(X_test)\n",
    "        print(f\"\\n📋 분류 리포트:\")\n",
    "        print(classification_report(y_test, y_pred_final))\n",
    "        print(f\"\\n📋 혼동 행렬:\")\n",
    "        print(confusion_matrix(y_test, y_pred_final))\n",
    "else:\n",
    "    print(\"❌ 모든 모델이 실패했습니다.\")"
   ],
   "id": "7ddda07eed7df762",
   "outputs": [
    {
     "name": "stdout",
     "output_type": "stream",
     "text": [
      "\n",
      "🏆 최고 성능 모델 F1-Score: 0.8127\n",
      "\n",
      "📊 전체 결과:\n",
      "  LogisticRegression: F1=0.8127, AUC=0.9304\n",
      "  RandomForest: F1=0.8000, AUC=0.9260\n",
      "  GradientBoosting: F1=0.7880, AUC=0.9323\n",
      "  XGBoost: F1=0.7899, AUC=0.9300\n",
      "  SVC: F1=0.7962, AUC=0.9233\n",
      "\n",
      "📋 분류 리포트:\n",
      "              precision    recall  f1-score   support\n",
      "\n",
      "           0       0.92      0.89      0.91       901\n",
      "           1       0.79      0.84      0.81       427\n",
      "\n",
      "    accuracy                           0.88      1328\n",
      "   macro avg       0.85      0.87      0.86      1328\n",
      "weighted avg       0.88      0.88      0.88      1328\n",
      "\n",
      "\n",
      "📋 혼동 행렬:\n",
      "[[805  96]\n",
      " [ 69 358]]\n"
     ]
    }
   ],
   "execution_count": 48
  },
  {
   "metadata": {
    "ExecuteTime": {
     "end_time": "2025-06-03T07:00:43.040957Z",
     "start_time": "2025-06-03T07:00:43.036728Z"
    }
   },
   "cell_type": "code",
   "source": [
    "# 데이터셋 기본 정보 확인\n",
    "print(\"데이터셋 정보:\")\n",
    "print(f\"  전체 샘플 수: {len(data)}\")\n",
    "print(f\"  특성 수: {X.shape[1]}\")\n",
    "print(f\"  클래스 분포: {dict(y.value_counts())}\")\n",
    "print(f\"  클래스 비율: {y.mean():.3f}\")\n",
    "\n",
    "# 최소 클래스 샘플 수 확인\n",
    "min_class_count = min(y.value_counts())\n",
    "print(f\"  최소 클래스 샘플 수: {min_class_count}\")\n",
    "\n",
    "if min_class_count < 10:\n",
    "    print(\"⚠️  경고: 최소 클래스 샘플이 너무 적습니다. 더 많은 데이터가 필요할 수 있습니다.\")"
   ],
   "id": "efc41ec1aed63a",
   "outputs": [
    {
     "name": "stdout",
     "output_type": "stream",
     "text": [
      "데이터셋 정보:\n",
      "  전체 샘플 수: 4424\n",
      "  특성 수: 34\n",
      "  클래스 분포: {0: np.int64(3003), 1: np.int64(1421)}\n",
      "  클래스 비율: 0.321\n",
      "  최소 클래스 샘플 수: 1421\n"
     ]
    }
   ],
   "execution_count": 49
  },
  {
   "metadata": {
    "ExecuteTime": {
     "end_time": "2025-06-03T07:00:50.983205Z",
     "start_time": "2025-06-03T07:00:50.670107Z"
    }
   },
   "cell_type": "code",
   "source": [
    "# 특성 중요도\n",
    "if 'RandomForest' in results:\n",
    "    rf = RandomForestClassifier().fit(X_train, y_train)\n",
    "    importances = rf.feature_importances_\n",
    "    indices = np.argsort(importances)[::-1][:10]\n",
    "    plt.figure(figsize=(10,6))\n",
    "    plt.bar(range(10), importances[indices])\n",
    "    plt.xticks(range(10), X.columns[indices], rotation=45)\n",
    "    plt.title('상위 10개 특성 중요도')\n",
    "    plt.show()"
   ],
   "id": "1225c862aea2c787",
   "outputs": [
    {
     "data": {
      "text/plain": [
       "<Figure size 1000x600 with 1 Axes>"
      ],
      "image/png": "[encoded data removed]"
     },
     "metadata": {},
     "output_type": "display_data"
    }
   ],
   "execution_count": 50
  }
 ],
 "metadata": {
  "kernelspec": {
   "display_name": "Python 3",
   "language": "python",
   "name": "python3"
  },
  "language_info": {
   "codemirror_mode": {
    "name": "ipython",
    "version": 2
   },
   "file_extension": ".py",
   "mimetype": "text/x-python",
   "name": "python",
   "nbconvert_exporter": "python",
   "pygments_lexer": "ipython2",
   "version": "2.7.6"
  }
 },
 "nbformat": 4,
 "nbformat_minor": 5
}
